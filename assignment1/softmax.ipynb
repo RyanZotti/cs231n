{
 "cells": [
  {
   "cell_type": "markdown",
   "metadata": {},
   "source": [
    "# Softmax exercise\n",
    "\n",
    "*Complete and hand in this completed worksheet (including its outputs and any supporting code outside of the worksheet) with your assignment submission. For more details see the [assignments page](http://vision.stanford.edu/teaching/cs231n/assignments.html) on the course website.*\n",
    "\n",
    "This exercise is analogous to the SVM exercise. You will:\n",
    "\n",
    "- implement a fully-vectorized **loss function** for the Softmax classifier\n",
    "- implement the fully-vectorized expression for its **analytic gradient**\n",
    "- **check your implementation** with numerical gradient\n",
    "- use a validation set to **tune the learning rate and regularization** strength\n",
    "- **optimize** the loss function with **SGD**\n",
    "- **visualize** the final learned weights\n"
   ]
  },
  {
   "cell_type": "code",
   "execution_count": 1,
   "metadata": {
    "collapsed": false
   },
   "outputs": [],
   "source": [
    "import random\n",
    "import numpy as np\n",
    "from cs231n.data_utils import load_CIFAR10\n",
    "import matplotlib.pyplot as plt\n",
    "%matplotlib inline\n",
    "plt.rcParams['figure.figsize'] = (10.0, 8.0) # set default size of plots\n",
    "plt.rcParams['image.interpolation'] = 'nearest'\n",
    "plt.rcParams['image.cmap'] = 'gray'\n",
    "\n",
    "# for auto-reloading extenrnal modules\n",
    "# see http://stackoverflow.com/questions/1907993/autoreload-of-modules-in-ipython\n",
    "%load_ext autoreload\n",
    "%autoreload 2"
   ]
  },
  {
   "cell_type": "code",
   "execution_count": 2,
   "metadata": {
    "collapsed": false
   },
   "outputs": [
    {
     "name": "stdout",
     "output_type": "stream",
     "text": [
      "Train data shape:  (49000, 3073)\n",
      "Train labels shape:  (49000,)\n",
      "Validation data shape:  (1000, 3073)\n",
      "Validation labels shape:  (1000,)\n",
      "Test data shape:  (1000, 3073)\n",
      "Test labels shape:  (1000,)\n",
      "dev data shape:  (500, 3073)\n",
      "dev labels shape:  (500,)\n"
     ]
    }
   ],
   "source": [
    "def get_CIFAR10_data(num_training=49000, num_validation=1000, num_test=1000, num_dev=500):\n",
    "  \"\"\"\n",
    "  Load the CIFAR-10 dataset from disk and perform preprocessing to prepare\n",
    "  it for the linear classifier. These are the same steps as we used for the\n",
    "  SVM, but condensed to a single function.  \n",
    "  \"\"\"\n",
    "  # Load the raw CIFAR-10 data\n",
    "  cifar10_dir = 'cs231n/datasets/cifar-10-batches-py'\n",
    "  X_train, y_train, X_test, y_test = load_CIFAR10(cifar10_dir)\n",
    "  \n",
    "  # subsample the data\n",
    "  mask = range(num_training, num_training + num_validation)\n",
    "  X_val = X_train[mask]\n",
    "  y_val = y_train[mask]\n",
    "  mask = range(num_training)\n",
    "  X_train = X_train[mask]\n",
    "  y_train = y_train[mask]\n",
    "  mask = range(num_test)\n",
    "  X_test = X_test[mask]\n",
    "  y_test = y_test[mask]\n",
    "  mask = np.random.choice(num_training, num_dev, replace=False)\n",
    "  X_dev = X_train[mask]\n",
    "  y_dev = y_train[mask]\n",
    "  \n",
    "  # Preprocessing: reshape the image data into rows\n",
    "  X_train = np.reshape(X_train, (X_train.shape[0], -1))\n",
    "  X_val = np.reshape(X_val, (X_val.shape[0], -1))\n",
    "  X_test = np.reshape(X_test, (X_test.shape[0], -1))\n",
    "  X_dev = np.reshape(X_dev, (X_dev.shape[0], -1))\n",
    "  \n",
    "  # Normalize the data: subtract the mean image\n",
    "  mean_image = np.mean(X_train, axis = 0)\n",
    "  X_train -= mean_image\n",
    "  X_val -= mean_image\n",
    "  X_test -= mean_image\n",
    "  X_dev -= mean_image\n",
    "  \n",
    "  # add bias dimension and transform into columns\n",
    "  X_train = np.hstack([X_train, np.ones((X_train.shape[0], 1))])\n",
    "  X_val = np.hstack([X_val, np.ones((X_val.shape[0], 1))])\n",
    "  X_test = np.hstack([X_test, np.ones((X_test.shape[0], 1))])\n",
    "  X_dev = np.hstack([X_dev, np.ones((X_dev.shape[0], 1))])\n",
    "  \n",
    "  return X_train, y_train, X_val, y_val, X_test, y_test, X_dev, y_dev\n",
    "\n",
    "\n",
    "# Invoke the above function to get our data.\n",
    "X_train, y_train, X_val, y_val, X_test, y_test, X_dev, y_dev = get_CIFAR10_data()\n",
    "print 'Train data shape: ', X_train.shape\n",
    "print 'Train labels shape: ', y_train.shape\n",
    "print 'Validation data shape: ', X_val.shape\n",
    "print 'Validation labels shape: ', y_val.shape\n",
    "print 'Test data shape: ', X_test.shape\n",
    "print 'Test labels shape: ', y_test.shape\n",
    "print 'dev data shape: ', X_dev.shape\n",
    "print 'dev labels shape: ', y_dev.shape"
   ]
  },
  {
   "cell_type": "markdown",
   "metadata": {},
   "source": [
    "## Softmax Classifier\n",
    "\n",
    "Your code for this section will all be written inside **cs231n/classifiers/softmax.py**. \n"
   ]
  },
  {
   "cell_type": "code",
   "execution_count": 3,
   "metadata": {
    "collapsed": false
   },
   "outputs": [
    {
     "name": "stdout",
     "output_type": "stream",
     "text": [
      "loss: 2.376785\n",
      "sanity check: 2.302585\n"
     ]
    }
   ],
   "source": [
    "# First implement the naive softmax loss function with nested loops.\n",
    "# Open the file cs231n/classifiers/softmax.py and implement the\n",
    "# softmax_loss_naive function.\n",
    "\n",
    "from cs231n.classifiers.softmax import softmax_loss_naive\n",
    "import time\n",
    "\n",
    "# Generate a random softmax weight matrix and use it to compute the loss.\n",
    "W = np.random.randn(3073, 10) * 0.0001\n",
    "loss, grad = softmax_loss_naive(W, X_dev, y_dev, 0.0)\n",
    "\n",
    "# As a rough sanity check, our loss should be something close to -log(0.1).\n",
    "print 'loss: %f' % loss\n",
    "print 'sanity check: %f' % (-np.log(0.1))"
   ]
  },
  {
   "cell_type": "markdown",
   "metadata": {},
   "source": [
    "## Inline Question 1:\n",
    "Why do we expect our loss to be close to -log(0.1)? Explain briefly.**\n",
    "\n",
    "**Your answer:** *Fill this in*\n"
   ]
  },
  {
   "cell_type": "code",
   "execution_count": 4,
   "metadata": {
    "collapsed": false
   },
   "outputs": [
    {
     "name": "stdout",
     "output_type": "stream",
     "text": [
      "numerical: -0.559993 analytic: -0.559993, relative error: 3.209382e-09\n",
      "numerical: 1.884587 analytic: 1.884587, relative error: 2.866778e-08\n",
      "numerical: 3.296020 analytic: 3.296020, relative error: 1.445315e-08\n",
      "numerical: -0.804238 analytic: -0.804238, relative error: 2.609135e-08\n",
      "numerical: 3.071044 analytic: 3.071044, relative error: 2.660860e-08\n",
      "numerical: -4.918583 analytic: -4.918583, relative error: 1.483414e-08\n",
      "numerical: 2.324440 analytic: 2.324440, relative error: 1.030178e-08\n",
      "numerical: -1.051922 analytic: -1.051922, relative error: 1.574718e-08\n",
      "numerical: -0.942009 analytic: -0.942009, relative error: 3.403991e-09\n",
      "numerical: -2.834293 analytic: -2.834293, relative error: 1.112117e-09\n",
      "numerical: -0.338789 analytic: -0.338789, relative error: 3.624072e-09\n",
      "numerical: 1.700496 analytic: 1.700496, relative error: 1.407737e-08\n",
      "numerical: 0.799335 analytic: 0.799335, relative error: 3.299607e-08\n",
      "numerical: -1.418043 analytic: -1.418043, relative error: 5.410390e-09\n",
      "numerical: 0.165192 analytic: 0.165192, relative error: 9.148210e-08\n",
      "numerical: -1.961726 analytic: -1.961726, relative error: 1.496966e-08\n",
      "numerical: -3.440377 analytic: -3.440377, relative error: 1.399206e-08\n",
      "numerical: -3.281902 analytic: -3.281902, relative error: 3.076238e-09\n",
      "numerical: 1.094605 analytic: 1.094605, relative error: 4.889236e-08\n",
      "numerical: 0.064092 analytic: 0.064092, relative error: 5.242119e-08\n"
     ]
    }
   ],
   "source": [
    "# Complete the implementation of softmax_loss_naive and implement a (naive)\n",
    "# version of the gradient that uses nested loops.\n",
    "loss, grad = softmax_loss_naive(W, X_dev, y_dev, 0.0)\n",
    "\n",
    "# As we did for the SVM, use numeric gradient checking as a debugging tool.\n",
    "# The numeric gradient should be close to the analytic gradient.\n",
    "from cs231n.gradient_check import grad_check_sparse\n",
    "f = lambda w: softmax_loss_naive(w, X_dev, y_dev, 0.0)[0]\n",
    "grad_numerical = grad_check_sparse(f, W, grad, 10)\n",
    "\n",
    "# similar to SVM case, do another gradient check with regularization\n",
    "loss, grad = softmax_loss_naive(W, X_dev, y_dev, 1e2)\n",
    "f = lambda w: softmax_loss_naive(w, X_dev, y_dev, 1e2)[0]\n",
    "grad_numerical = grad_check_sparse(f, W, grad, 10)"
   ]
  },
  {
   "cell_type": "code",
   "execution_count": 5,
   "metadata": {
    "collapsed": false
   },
   "outputs": [
    {
     "name": "stdout",
     "output_type": "stream",
     "text": [
      "naive loss: 2.376785e+00 computed in 0.109728s\n",
      "vectorized loss: 2.376785e+00 computed in 0.002957s\n",
      "Loss difference: 0.000000\n",
      "Gradient difference: 0.000000\n"
     ]
    }
   ],
   "source": [
    "# Now that we have a naive implementation of the softmax loss function and its gradient,\n",
    "# implement a vectorized version in softmax_loss_vectorized.\n",
    "# The two versions should compute the same results, but the vectorized version should be\n",
    "# much faster.\n",
    "tic = time.time()\n",
    "loss_naive, grad_naive = softmax_loss_naive(W, X_dev, y_dev, 0.00001)\n",
    "toc = time.time()\n",
    "print 'naive loss: %e computed in %fs' % (loss_naive, toc - tic)\n",
    "\n",
    "from cs231n.classifiers.softmax import softmax_loss_vectorized\n",
    "tic = time.time()\n",
    "loss_vectorized, grad_vectorized = softmax_loss_vectorized(W, X_dev, y_dev, 0.00001)\n",
    "toc = time.time()\n",
    "print 'vectorized loss: %e computed in %fs' % (loss_vectorized, toc - tic)\n",
    "\n",
    "# As we did for the SVM, we use the Frobenius norm to compare the two versions\n",
    "# of the gradient.\n",
    "grad_difference = np.linalg.norm(grad_naive - grad_vectorized, ord='fro')\n",
    "print 'Loss difference: %f' % np.abs(loss_naive - loss_vectorized)\n",
    "print 'Gradient difference: %f' % grad_difference"
   ]
  },
  {
   "cell_type": "code",
   "execution_count": 6,
   "metadata": {
    "collapsed": false
   },
   "outputs": [
    {
     "name": "stdout",
     "output_type": "stream",
     "text": [
      "Training learning rate = 1e-07 and regularization strength = 50000.0\n",
      "iteration 0 / 3000: loss 774.774755\n",
      "iteration 100 / 3000: loss 284.303804\n",
      "iteration 200 / 3000: loss 105.408484\n",
      "iteration 300 / 3000: loss 39.928909\n",
      "iteration 400 / 3000: loss 15.919191\n",
      "iteration 500 / 3000: loss 7.190866\n",
      "iteration 600 / 3000: loss 3.954273\n",
      "iteration 700 / 3000: loss 2.764853\n",
      "iteration 800 / 3000: loss 2.362361\n",
      "iteration 900 / 3000: loss 2.176022\n",
      "iteration 1000 / 3000: loss 2.127291\n",
      "iteration 1100 / 3000: loss 2.081620\n",
      "iteration 1200 / 3000: loss 2.045368\n",
      "iteration 1300 / 3000: loss 2.024224\n",
      "iteration 1400 / 3000: loss 2.078826\n",
      "iteration 1500 / 3000: loss 2.019634\n",
      "iteration 1600 / 3000: loss 2.087028\n",
      "iteration 1700 / 3000: loss 2.101405\n",
      "iteration 1800 / 3000: loss 2.070744\n",
      "iteration 1900 / 3000: loss 2.041614\n",
      "iteration 2000 / 3000: loss 2.089891\n",
      "iteration 2100 / 3000: loss 2.065724\n",
      "iteration 2200 / 3000: loss 2.090307\n",
      "iteration 2300 / 3000: loss 2.122697\n",
      "iteration 2400 / 3000: loss 2.069927\n",
      "iteration 2500 / 3000: loss 2.057032\n",
      "iteration 2600 / 3000: loss 2.029964\n",
      "iteration 2700 / 3000: loss 2.174952\n",
      "iteration 2800 / 3000: loss 2.067549\n",
      "iteration 2900 / 3000: loss 2.085849\n",
      "Training learning rate = 1e-07 and regularization strength = 100000000.0\n",
      "iteration 0 / 3000: loss 781.603853\n",
      "iteration 100 / 3000: loss 287.042871\n",
      "iteration 200 / 3000: loss 106.420909\n",
      "iteration 300 / 3000: loss 40.307298\n",
      "iteration 400 / 3000: loss 16.090005\n",
      "iteration 500 / 3000: loss 7.217208\n",
      "iteration 600 / 3000: loss 3.929096\n",
      "iteration 700 / 3000: loss 2.722943\n",
      "iteration 800 / 3000: loss 2.333751\n",
      "iteration 900 / 3000: loss 2.182879\n",
      "iteration 1000 / 3000: loss 2.106589\n",
      "iteration 1100 / 3000: loss 2.121471\n",
      "iteration 1200 / 3000: loss 2.159572\n",
      "iteration 1300 / 3000: loss 2.107504\n",
      "iteration 1400 / 3000: loss 2.024922\n",
      "iteration 1500 / 3000: loss 2.052309\n",
      "iteration 1600 / 3000: loss 1.984821\n",
      "iteration 1700 / 3000: loss 2.026424\n",
      "iteration 1800 / 3000: loss 2.067491\n",
      "iteration 1900 / 3000: loss 2.135500\n",
      "iteration 2000 / 3000: loss 2.112596\n",
      "iteration 2100 / 3000: loss 2.085685\n",
      "iteration 2200 / 3000: loss 2.112602\n",
      "iteration 2300 / 3000: loss 2.033225\n",
      "iteration 2400 / 3000: loss 2.030156\n",
      "iteration 2500 / 3000: loss 2.063646\n",
      "iteration 2600 / 3000: loss 2.112365\n",
      "iteration 2700 / 3000: loss 2.096397\n",
      "iteration 2800 / 3000: loss 2.053312\n",
      "iteration 2900 / 3000: loss 2.106997\n",
      "Training learning rate = 5e-07 and regularization strength = 50000.0\n",
      "iteration 0 / 3000: loss 778.657393\n",
      "iteration 100 / 3000: loss 285.772811\n",
      "iteration 200 / 3000: loss 105.793946\n",
      "iteration 300 / 3000: loss 40.073712\n",
      "iteration 400 / 3000: loss 16.030431\n",
      "iteration 500 / 3000: loss 7.183550\n",
      "iteration 600 / 3000: loss 3.932661\n",
      "iteration 700 / 3000: loss 2.752973\n",
      "iteration 800 / 3000: loss 2.385656\n",
      "iteration 900 / 3000: loss 2.225233\n",
      "iteration 1000 / 3000: loss 2.132387\n",
      "iteration 1100 / 3000: loss 2.105762\n",
      "iteration 1200 / 3000: loss 2.031956\n",
      "iteration 1300 / 3000: loss 2.081330\n",
      "iteration 1400 / 3000: loss 2.087719\n",
      "iteration 1500 / 3000: loss 2.068603\n",
      "iteration 1600 / 3000: loss 2.024396\n",
      "iteration 1700 / 3000: loss 2.128049\n",
      "iteration 1800 / 3000: loss 2.112239\n",
      "iteration 1900 / 3000: loss 2.083390\n",
      "iteration 2000 / 3000: loss 2.059938\n",
      "iteration 2100 / 3000: loss 2.073722\n",
      "iteration 2200 / 3000: loss 2.119023\n",
      "iteration 2300 / 3000: loss 2.097910\n",
      "iteration 2400 / 3000: loss 2.055576\n",
      "iteration 2500 / 3000: loss 2.097854\n",
      "iteration 2600 / 3000: loss 2.096543\n",
      "iteration 2700 / 3000: loss 2.070713\n",
      "iteration 2800 / 3000: loss 2.007954\n",
      "iteration 2900 / 3000: loss 2.094083\n",
      "Training learning rate = 5e-07 and regularization strength = 100000000.0\n",
      "iteration 0 / 3000: loss 764.359834\n",
      "iteration 100 / 3000: loss 280.327962\n",
      "iteration 200 / 3000: loss 103.723827\n",
      "iteration 300 / 3000: loss 39.285345\n",
      "iteration 400 / 3000: loss 15.655655\n",
      "iteration 500 / 3000: loss 7.081104\n",
      "iteration 600 / 3000: loss 3.960771\n",
      "iteration 700 / 3000: loss 2.710951\n",
      "iteration 800 / 3000: loss 2.373270\n",
      "iteration 900 / 3000: loss 2.143273\n",
      "iteration 1000 / 3000: loss 2.073005\n",
      "iteration 1100 / 3000: loss 2.140668\n",
      "iteration 1200 / 3000: loss 2.057313\n",
      "iteration 1300 / 3000: loss 2.082059\n",
      "iteration 1400 / 3000: loss 2.092940\n",
      "iteration 1500 / 3000: loss 2.050753\n",
      "iteration 1600 / 3000: loss 2.103244\n",
      "iteration 1700 / 3000: loss 2.104046\n",
      "iteration 1800 / 3000: loss 2.081885\n",
      "iteration 1900 / 3000: loss 2.128551\n",
      "iteration 2000 / 3000: loss 2.049520\n",
      "iteration 2100 / 3000: loss 2.139570\n",
      "iteration 2200 / 3000: loss 2.041646\n",
      "iteration 2300 / 3000: loss 2.106938\n",
      "iteration 2400 / 3000: loss 2.087153\n",
      "iteration 2500 / 3000: loss 2.096674\n",
      "iteration 2600 / 3000: loss 2.102152\n",
      "iteration 2700 / 3000: loss 2.088643\n",
      "iteration 2800 / 3000: loss 2.086254\n",
      "iteration 2900 / 3000: loss 2.099473\n",
      "lr 1.000000e-07 reg 5.000000e+04 train accuracy: 0.325918 val accuracy: 0.340000\n",
      "lr 1.000000e-07 reg 1.000000e+08 train accuracy: 0.330306 val accuracy: 0.345000\n",
      "lr 5.000000e-07 reg 5.000000e+04 train accuracy: 0.330571 val accuracy: 0.343000\n",
      "lr 5.000000e-07 reg 1.000000e+08 train accuracy: 0.326204 val accuracy: 0.340000\n",
      "best validation accuracy achieved during cross-validation: 0.345000\n"
     ]
    }
   ],
   "source": [
    "# Use the validation set to tune hyperparameters (regularization strength and\n",
    "# learning rate). You should experiment with different ranges for the learning\n",
    "# rates and regularization strengths; if you are careful you should be able to\n",
    "# get a classification accuracy of over 0.35 on the validation set.\n",
    "from cs231n.classifiers import Softmax\n",
    "results = {}\n",
    "best_val = -1\n",
    "best_softmax = None\n",
    "learning_rates = [1e-7, 5e-7]\n",
    "regularization_strengths = [5e4, 1e8]\n",
    "\n",
    "################################################################################\n",
    "# TODO:                                                                        #\n",
    "# Use the validation set to set the learning rate and regularization strength. #\n",
    "# This should be identical to the validation that you did for the SVM; save    #\n",
    "# the best trained softmax classifer in best_softmax.                          #\n",
    "################################################################################\n",
    "for lr in learning_rates:\n",
    "    for reg in regularization_strengths:\n",
    "        print(\"Training learning rate = {lr} and regularization strength = {reg}\".format(lr=lr, reg=reg))\n",
    "        softmax = Softmax()\n",
    "        softmax.train(X_train, y_train, learning_rate=1e-7, reg=5e4,\n",
    "                      num_iters=3000, verbose=True)\n",
    "        y_train_pred = softmax.predict(X_train)\n",
    "        y_val_pred = softmax.predict(X_val)\n",
    "        train_accuracy = np.mean(y_train == y_train_pred)\n",
    "        val_accuracy = np.mean(y_val == y_val_pred)\n",
    "        results[(lr, reg)] = (train_accuracy, val_accuracy)\n",
    "        if val_accuracy > best_val:\n",
    "            best_val = val_accuracy\n",
    "            best_softmax = softmax\n",
    "################################################################################\n",
    "#                              END OF YOUR CODE                                #\n",
    "################################################################################\n",
    "    \n",
    "# Print out results.\n",
    "for lr, reg in sorted(results):\n",
    "    train_accuracy, val_accuracy = results[(lr, reg)]\n",
    "    print 'lr %e reg %e train accuracy: %f val accuracy: %f' % (\n",
    "                lr, reg, train_accuracy, val_accuracy)\n",
    "    \n",
    "print 'best validation accuracy achieved during cross-validation: %f' % best_val"
   ]
  },
  {
   "cell_type": "code",
   "execution_count": 7,
   "metadata": {
    "collapsed": false
   },
   "outputs": [
    {
     "name": "stdout",
     "output_type": "stream",
     "text": [
      "softmax on raw pixels final test set accuracy: 0.344000\n"
     ]
    }
   ],
   "source": [
    "# evaluate on test set\n",
    "# Evaluate the best softmax on test set\n",
    "y_test_pred = best_softmax.predict(X_test)\n",
    "test_accuracy = np.mean(y_test == y_test_pred)\n",
    "print 'softmax on raw pixels final test set accuracy: %f' % (test_accuracy, )"
   ]
  },
  {
   "cell_type": "code",
   "execution_count": 8,
   "metadata": {
    "collapsed": false
   },
   "outputs": [
    {
     "data": {
      "image/png": "[encoded data removed]",
      "text/plain": [
       "<matplotlib.figure.Figure at 0x10b58bd90>"
      ]
     },
     "metadata": {},
     "output_type": "display_data"
    }
   ],
   "source": [
    "# Visualize the learned weights for each class\n",
    "w = best_softmax.W[:-1,:] # strip out the bias\n",
    "w = w.reshape(32, 32, 3, 10)\n",
    "\n",
    "w_min, w_max = np.min(w), np.max(w)\n",
    "\n",
    "classes = ['plane', 'car', 'bird', 'cat', 'deer', 'dog', 'frog', 'horse', 'ship', 'truck']\n",
    "for i in xrange(10):\n",
    "  plt.subplot(2, 5, i + 1)\n",
    "  \n",
    "  # Rescale the weights to be between 0 and 255\n",
    "  wimg = 255.0 * (w[:, :, :, i].squeeze() - w_min) / (w_max - w_min)\n",
    "  plt.imshow(wimg.astype('uint8'))\n",
    "  plt.axis('off')\n",
    "  plt.title(classes[i])"
   ]
  }
 ],
 "metadata": {
  "kernelspec": {
   "display_name": "Python 2",
   "language": "python",
   "name": "python2"
  },
  "language_info": {
   "codemirror_mode": {
    "name": "ipython",
    "version": 2
   },
   "file_extension": ".py",
   "mimetype": "text/x-python",
   "name": "python",
   "nbconvert_exporter": "python",
   "pygments_lexer": "ipython2",
   "version": "2.7.13"
  }
 },
 "nbformat": 4,
 "nbformat_minor": 0
}
